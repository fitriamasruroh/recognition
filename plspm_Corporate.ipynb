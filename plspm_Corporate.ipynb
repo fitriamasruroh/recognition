{
  "nbformat": 4,
  "nbformat_minor": 5,
  "metadata": {
    "kernelspec": {
      "display_name": "Python 3",
      "language": "python",
      "name": "python3"
    },
    "language_info": {
      "codemirror_mode": {
        "name": "ipython",
        "version": 3
      },
      "file_extension": ".py",
      "mimetype": "text/x-python",
      "name": "python",
      "nbconvert_exporter": "python",
      "pygments_lexer": "ipython3",
      "version": "3.8.8"
    },
    "colab": {
      "name": "plspm Corporate.ipynb",
      "provenance": [],
      "collapsed_sections": [],
      "include_colab_link": true
    }
  },
  "cells": [
    {
      "cell_type": "markdown",
      "metadata": {
        "id": "view-in-github",
        "colab_type": "text"
      },
      "source": [
        "<a href=\"https://colab.research.google.com/github/fitriamasruroh/recognition/blob/main/plspm_Corporate.ipynb\" target=\"_parent\"><img src=\"https://colab.research.google.com/assets/colab-badge.svg\" alt=\"Open In Colab\"/></a>"
      ]
    },
    {
      "cell_type": "markdown",
      "metadata": {
        "id": "macro-sender"
      },
      "source": [
        "# PLSPM\n",
        "Partial Least Squares Path Modeling (PLS-PM) merupakan salah satu metode analisis data statistik yang termasuk di dalamnya mengunakan pendekatan pengolahan data dengan PLS-SEM (Sanchez, 2013)\n",
        "\n",
        "**Tiga tahapan proses PLS-PM, sebagai berikut:**\n",
        "\n",
        "\n",
        "1.   Measurement Model Assessment\n",
        "2.   Structural Model Assessment\n",
        "3.   Bootstrapping"
      ],
      "id": "macro-sender"
    },
    {
      "cell_type": "markdown",
      "metadata": {
        "id": "oriented-folks"
      },
      "source": [
        "# Instalasi library plspm"
      ],
      "id": "oriented-folks"
    },
    {
      "cell_type": "code",
      "metadata": {
        "id": "AzbN8Bkz8yf6"
      },
      "source": [
        "pip install plspm"
      ],
      "id": "AzbN8Bkz8yf6",
      "execution_count": null,
      "outputs": []
    },
    {
      "cell_type": "markdown",
      "metadata": {
        "id": "iTFSF0-xghES"
      },
      "source": [
        "**Import library yang diperlukan dalam analisis**"
      ],
      "id": "iTFSF0-xghES"
    },
    {
      "cell_type": "code",
      "metadata": {
        "colab": {
          "base_uri": "https://localhost:8080/"
        },
        "id": "executive-print",
        "outputId": "99539e7d-9807-4cf8-e542-bebc4513f613"
      },
      "source": [
        "import pandas as pd, plspm.config as c\n",
        "from plspm.plspm import Plspm\n",
        "from plspm.scheme import Scheme\n",
        "from plspm.mode import Mode\n",
        "from plspm.bootstrap import Bootstrap"
      ],
      "id": "executive-print",
      "execution_count": 2,
      "outputs": [
        {
          "output_type": "stream",
          "name": "stderr",
          "text": [
            "/usr/local/lib/python3.7/dist-packages/statsmodels/tools/_testing.py:19: FutureWarning: pandas.util.testing is deprecated. Use the functions in the public API at pandas.testing instead.\n",
            "  import pandas.util.testing as tm\n"
          ]
        }
      ]
    },
    {
      "cell_type": "markdown",
      "metadata": {
        "id": "NnUF4qnnSUb6"
      },
      "source": [
        "# Persiapan Data"
      ],
      "id": "NnUF4qnnSUb6"
    },
    {
      "cell_type": "markdown",
      "metadata": {
        "id": "N_K7skE1UYQ2"
      },
      "source": [
        "**Mount Google drive and data**"
      ],
      "id": "N_K7skE1UYQ2"
    },
    {
      "cell_type": "code",
      "metadata": {
        "colab": {
          "resources": {
            "http://localhost:8080/nbextensions/google.colab/files.js": {
              "data": "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",
              "ok": true,
              "headers": [
                [
                  "content-type",
                  "application/javascript"
                ]
              ],
              "status": 200,
              "status_text": ""
            }
          },
          "base_uri": "https://localhost:8080/",
          "height": 38
        },
        "id": "J92lmLNc8-A1",
        "outputId": "6e7abc99-89dd-495f-d898-2104d5771eb8"
      },
      "source": [
        "from google.colab import files\n",
        "uploaded = files.upload()"
      ],
      "id": "J92lmLNc8-A1",
      "execution_count": null,
      "outputs": [
        {
          "output_type": "display_data",
          "data": {
            "text/plain": [
              "<IPython.core.display.HTML object>"
            ],
            "text/html": [
              "\n",
              "     <input type=\"file\" id=\"files-87b362cf-e156-46ef-b8ab-739e6b316209\" name=\"files[]\" multiple disabled\n",
              "        style=\"border:none\" />\n",
              "     <output id=\"result-87b362cf-e156-46ef-b8ab-739e6b316209\">\n",
              "      Upload widget is only available when the cell has been executed in the\n",
              "      current browser session. Please rerun this cell to enable.\n",
              "      </output>\n",
              "      <script src=\"/nbextensions/google.colab/files.js\"></script> "
            ]
          },
          "metadata": {}
        }
      ]
    },
    {
      "cell_type": "markdown",
      "metadata": {
        "id": "tqBGfRmcgmtc"
      },
      "source": [
        "**Akses data yang akan diuji**\n",
        "\n",
        "Note:<br>\n",
        "*Data yang digunakan dalam penelitian ini diambil dari https://www.smartpls.com/documentation/sample-projects/corporate-reputation<br>\n",
        "*Ada 11 data yang tidak tersedia (NA, data asli bernilai -99) kita akan gunakan asumsi melengkapi/mengganti nilai -99 data tersebut dengan nilai rata-rata variabel yang sama pada baris data yang tidak tersedia."
      ],
      "id": "tqBGfRmcgmtc"
    },
    {
      "cell_type": "code",
      "metadata": {
        "colab": {
          "base_uri": "https://localhost:8080/",
          "height": 488
        },
        "id": "B93igetq9IXG",
        "outputId": "cf02800e-4523-4b78-a78e-36232df0fe30"
      },
      "source": [
        "df = pd.read_csv('/content/csv.csv') #lokasi file csv\n",
        "df"
      ],
      "id": "B93igetq9IXG",
      "execution_count": 23,
      "outputs": [
        {
          "output_type": "execute_result",
          "data": {
            "text/plain": [
              "    AF1;AF2;AF3;AF4;RA1;RA2;RA3;CM1;CM2;CM3;CM4;CB1;CB2;CB3;MS1;MS2;MS3;EK1;EK2;EK3;CP1;CP2;CT1;CT2;CT3;GS1;GS2;GS3;IR1;IR2;IS1;IS2;IU1;IU2;Y1;Y2;Y3\n",
              "0    5;5;5;5;4;4;4;5;5;5;5;5;5;5;5;5;5;5;5;5;1;1;5;...                                                                                              \n",
              "1    5;5;5;5;5;5;5;4;4;4;4;5;5;5;5;5;5;5;5;5;1;1;5;...                                                                                              \n",
              "2    5;5;5;5;5;5;5;5;5;5;5;5;5;5;5;5;5;5;5;5;1;1;5;...                                                                                              \n",
              "3    5;5;5;5;5;5;5;5;5;5;5;5;5;5;5;5;5;5;5;5;1;1;5;...                                                                                              \n",
              "4    4;4;5;4;5;4;5;3;4;3;4;4;4;5;4;4;4;4;4;4;2;1;4;...                                                                                              \n",
              "..                                                 ...                                                                                              \n",
              "110  5;4;5;4;3;3;3;4;4;4;4;5;5;4;4;5;5;4;5;5;2;2;3;...                                                                                              \n",
              "111  4;4;5;4;4;3;4;4;4;4;4;4;4;5;4;4;4;4;4;4;2;1;4;...                                                                                              \n",
              "112  5;5;5;5;5;5;5;5;5;5;5;5;5;5;5;5;5;5;5;5;1;1;5;...                                                                                              \n",
              "113  5;4;5;4;5;5;4;5;5;5;5;5;5;4;4;5;5;4;5;5;2;2;5;...                                                                                              \n",
              "114  4;4;5;4;4;4;3;4;5;4;5;4;4;5;3;3;3;5;5;3;2;1;4;...                                                                                              \n",
              "\n",
              "[115 rows x 1 columns]"
            ],
            "text/html": [
              "\n",
              "  <div id=\"df-df138a98-fcc0-4648-b18b-125fbc8763ed\">\n",
              "    <div class=\"colab-df-container\">\n",
              "      <div>\n",
              "<style scoped>\n",
              "    .dataframe tbody tr th:only-of-type {\n",
              "        vertical-align: middle;\n",
              "    }\n",
              "\n",
              "    .dataframe tbody tr th {\n",
              "        vertical-align: top;\n",
              "    }\n",
              "\n",
              "    .dataframe thead th {\n",
              "        text-align: right;\n",
              "    }\n",
              "</style>\n",
              "<table border=\"1\" class=\"dataframe\">\n",
              "  <thead>\n",
              "    <tr style=\"text-align: right;\">\n",
              "      <th></th>\n",
              "      <th>AF1;AF2;AF3;AF4;RA1;RA2;RA3;CM1;CM2;CM3;CM4;CB1;CB2;CB3;MS1;MS2;MS3;EK1;EK2;EK3;CP1;CP2;CT1;CT2;CT3;GS1;GS2;GS3;IR1;IR2;IS1;IS2;IU1;IU2;Y1;Y2;Y3</th>\n",
              "    </tr>\n",
              "  </thead>\n",
              "  <tbody>\n",
              "    <tr>\n",
              "      <th>0</th>\n",
              "      <td>5;5;5;5;4;4;4;5;5;5;5;5;5;5;5;5;5;5;5;5;1;1;5;...</td>\n",
              "    </tr>\n",
              "    <tr>\n",
              "      <th>1</th>\n",
              "      <td>5;5;5;5;5;5;5;4;4;4;4;5;5;5;5;5;5;5;5;5;1;1;5;...</td>\n",
              "    </tr>\n",
              "    <tr>\n",
              "      <th>2</th>\n",
              "      <td>5;5;5;5;5;5;5;5;5;5;5;5;5;5;5;5;5;5;5;5;1;1;5;...</td>\n",
              "    </tr>\n",
              "    <tr>\n",
              "      <th>3</th>\n",
              "      <td>5;5;5;5;5;5;5;5;5;5;5;5;5;5;5;5;5;5;5;5;1;1;5;...</td>\n",
              "    </tr>\n",
              "    <tr>\n",
              "      <th>4</th>\n",
              "      <td>4;4;5;4;5;4;5;3;4;3;4;4;4;5;4;4;4;4;4;4;2;1;4;...</td>\n",
              "    </tr>\n",
              "    <tr>\n",
              "      <th>...</th>\n",
              "      <td>...</td>\n",
              "    </tr>\n",
              "    <tr>\n",
              "      <th>110</th>\n",
              "      <td>5;4;5;4;3;3;3;4;4;4;4;5;5;4;4;5;5;4;5;5;2;2;3;...</td>\n",
              "    </tr>\n",
              "    <tr>\n",
              "      <th>111</th>\n",
              "      <td>4;4;5;4;4;3;4;4;4;4;4;4;4;5;4;4;4;4;4;4;2;1;4;...</td>\n",
              "    </tr>\n",
              "    <tr>\n",
              "      <th>112</th>\n",
              "      <td>5;5;5;5;5;5;5;5;5;5;5;5;5;5;5;5;5;5;5;5;1;1;5;...</td>\n",
              "    </tr>\n",
              "    <tr>\n",
              "      <th>113</th>\n",
              "      <td>5;4;5;4;5;5;4;5;5;5;5;5;5;4;4;5;5;4;5;5;2;2;5;...</td>\n",
              "    </tr>\n",
              "    <tr>\n",
              "      <th>114</th>\n",
              "      <td>4;4;5;4;4;4;3;4;5;4;5;4;4;5;3;3;3;5;5;3;2;1;4;...</td>\n",
              "    </tr>\n",
              "  </tbody>\n",
              "</table>\n",
              "<p>115 rows × 1 columns</p>\n",
              "</div>\n",
              "      <button class=\"colab-df-convert\" onclick=\"convertToInteractive('df-df138a98-fcc0-4648-b18b-125fbc8763ed')\"\n",
              "              title=\"Convert this dataframe to an interactive table.\"\n",
              "              style=\"display:none;\">\n",
              "        \n",
              "  <svg xmlns=\"http://www.w3.org/2000/svg\" height=\"24px\"viewBox=\"0 0 24 24\"\n",
              "       width=\"24px\">\n",
              "    <path d=\"M0 0h24v24H0V0z\" fill=\"none\"/>\n",
              "    <path d=\"M18.56 5.44l.94 2.06.94-2.06 2.06-.94-2.06-.94-.94-2.06-.94 2.06-2.06.94zm-11 1L8.5 8.5l.94-2.06 2.06-.94-2.06-.94L8.5 2.5l-.94 2.06-2.06.94zm10 10l.94 2.06.94-2.06 2.06-.94-2.06-.94-.94-2.06-.94 2.06-2.06.94z\"/><path d=\"M17.41 7.96l-1.37-1.37c-.4-.4-.92-.59-1.43-.59-.52 0-1.04.2-1.43.59L10.3 9.45l-7.72 7.72c-.78.78-.78 2.05 0 2.83L4 21.41c.39.39.9.59 1.41.59.51 0 1.02-.2 1.41-.59l7.78-7.78 2.81-2.81c.8-.78.8-2.07 0-2.86zM5.41 20L4 18.59l7.72-7.72 1.47 1.35L5.41 20z\"/>\n",
              "  </svg>\n",
              "      </button>\n",
              "      \n",
              "  <style>\n",
              "    .colab-df-container {\n",
              "      display:flex;\n",
              "      flex-wrap:wrap;\n",
              "      gap: 12px;\n",
              "    }\n",
              "\n",
              "    .colab-df-convert {\n",
              "      background-color: #E8F0FE;\n",
              "      border: none;\n",
              "      border-radius: 50%;\n",
              "      cursor: pointer;\n",
              "      display: none;\n",
              "      fill: #1967D2;\n",
              "      height: 32px;\n",
              "      padding: 0 0 0 0;\n",
              "      width: 32px;\n",
              "    }\n",
              "\n",
              "    .colab-df-convert:hover {\n",
              "      background-color: #E2EBFA;\n",
              "      box-shadow: 0px 1px 2px rgba(60, 64, 67, 0.3), 0px 1px 3px 1px rgba(60, 64, 67, 0.15);\n",
              "      fill: #174EA6;\n",
              "    }\n",
              "\n",
              "    [theme=dark] .colab-df-convert {\n",
              "      background-color: #3B4455;\n",
              "      fill: #D2E3FC;\n",
              "    }\n",
              "\n",
              "    [theme=dark] .colab-df-convert:hover {\n",
              "      background-color: #434B5C;\n",
              "      box-shadow: 0px 1px 3px 1px rgba(0, 0, 0, 0.15);\n",
              "      filter: drop-shadow(0px 1px 2px rgba(0, 0, 0, 0.3));\n",
              "      fill: #FFFFFF;\n",
              "    }\n",
              "  </style>\n",
              "\n",
              "      <script>\n",
              "        const buttonEl =\n",
              "          document.querySelector('#df-df138a98-fcc0-4648-b18b-125fbc8763ed button.colab-df-convert');\n",
              "        buttonEl.style.display =\n",
              "          google.colab.kernel.accessAllowed ? 'block' : 'none';\n",
              "\n",
              "        async function convertToInteractive(key) {\n",
              "          const element = document.querySelector('#df-df138a98-fcc0-4648-b18b-125fbc8763ed');\n",
              "          const dataTable =\n",
              "            await google.colab.kernel.invokeFunction('convertToInteractive',\n",
              "                                                     [key], {});\n",
              "          if (!dataTable) return;\n",
              "\n",
              "          const docLinkHtml = 'Like what you see? Visit the ' +\n",
              "            '<a target=\"_blank\" href=https://colab.research.google.com/notebooks/data_table.ipynb>data table notebook</a>'\n",
              "            + ' to learn more about interactive tables.';\n",
              "          element.innerHTML = '';\n",
              "          dataTable['output_type'] = 'display_data';\n",
              "          await google.colab.output.renderOutput(dataTable, element);\n",
              "          const docLink = document.createElement('div');\n",
              "          docLink.innerHTML = docLinkHtml;\n",
              "          element.appendChild(docLink);\n",
              "        }\n",
              "      </script>\n",
              "    </div>\n",
              "  </div>\n",
              "  "
            ]
          },
          "metadata": {},
          "execution_count": 23
        }
      ]
    },
    {
      "cell_type": "markdown",
      "metadata": {
        "id": "former-cosmetic"
      },
      "source": [
        "# Persiapan model"
      ],
      "id": "former-cosmetic"
    },
    {
      "cell_type": "markdown",
      "metadata": {
        "id": "Ar5JE4eheVX4"
      },
      "source": [
        "**Model yang akan diuji**\n",
        "\n",
        "Gambar di bawah ini adalah model yang akan diuji dengan 4 variabel yaitu COMP, LIKE, CUSA dan CUSL"
      ],
      "id": "Ar5JE4eheVX4"
    },
    {
      "cell_type": "markdown",
      "metadata": {
        "id": "bcBIFtU4Z92p"
      },
      "source": [
        "![pls.jpg](data:image/jpeg;base64,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)"
      ],
      "id": "bcBIFtU4Z92p"
    },
    {
      "cell_type": "markdown",
      "metadata": {
        "id": "_oXpxnRRU7vz"
      },
      "source": [
        "**Inner model**"
      ],
      "id": "_oXpxnRRU7vz"
    },
    {
      "cell_type": "code",
      "metadata": {
        "id": "homeless-minneapolis"
      },
      "source": [
        "innerModelSaya = c.Structure()\n",
        "innerModelSaya.add_path([\"Adoption Fee\", \"Relative Advantage\", \"Complexity\",\n",
        "                                 \"Compatibility\", \"Management Support\",\n",
        "                                 \"Employee Knowledge\", \"Customer Pressure\", \"Competitive Pressure\",\n",
        "                                 \"Government Support\", \"Information Retrieval\", \"Information Sharing\",\n",
        "                                 \"Information Use\"], [\"Social CRM\"])"
      ],
      "id": "homeless-minneapolis",
      "execution_count": 14,
      "outputs": []
    },
    {
      "cell_type": "markdown",
      "metadata": {
        "id": "nGn4BOdJVDF8"
      },
      "source": [
        "**Outer model**"
      ],
      "id": "nGn4BOdJVDF8"
    },
    {
      "cell_type": "code",
      "metadata": {
        "id": "specified-hacker",
        "outputId": "6d0b1db3-9e27-4da2-f09f-b58bb279d4d3",
        "colab": {
          "base_uri": "https://localhost:8080/",
          "height": 391
        }
      },
      "source": [
        "outerModelSaya = c.Config(innerModelSaya.path(), scaled=False)\n",
        "outerModelSaya.add_lv_with_columns_named(\"Adoption Fee\", Mode.A, df, \"AF\") #mengambil data column dengan nama yang diawali \"comp_\" sebagai data indikator var COMP\n",
        "outerModelSaya.add_lv_with_columns_named(\"Complexity\", Mode.A, df, \"CM\")\n",
        "outerModelSaya.add_lv_with_columns_named(\"Compatibility\", Mode.A, df, \"CB\")\n",
        "outerModelSaya.add_lv_with_columns_named(\"Management Support\", Mode.A, df, \"MS\")\n",
        "outerModelSaya.add_lv_with_columns_named(\"Employee Knowledge\", Mode.A, df, \"EK\")\n",
        "outerModelSaya.add_lv_with_columns_named(\"Customer Pressure\", Mode.A, df, \"CP\")\n",
        "outerModelSaya.add_lv_with_columns_named(\"Competitive Pressure\", Mode.A, df, \"CT\")\n",
        "outerModelSaya.add_lv_with_columns_named(\"Government Support\", Mode.A, df, \"GS\")\n",
        "outerModelSaya.add_lv_with_columns_named(\"Information Retrieval\", Mode.A, df, \"IR\")\n",
        "outerModelSaya.add_lv_with_columns_named(\"Information Sharing\", Mode.A, df, \"IS\")\n",
        "outerModelSaya.add_lv_with_columns_named(\"Information Use\", Mode.A, df, \"IU\")\n",
        "outerModelSaya.add_lv_with_columns_named(\"Social CRM\", \"Y\", Mode.A, df, \"Y\")\n"
      ],
      "id": "specified-hacker",
      "execution_count": 15,
      "outputs": [
        {
          "output_type": "error",
          "ename": "ValueError",
          "evalue": "ignored",
          "traceback": [
            "\u001b[0;31m---------------------------------------------------------------------------\u001b[0m",
            "\u001b[0;31mValueError\u001b[0m                                Traceback (most recent call last)",
            "\u001b[0;32m<ipython-input-15-777f92c088d5>\u001b[0m in \u001b[0;36m<module>\u001b[0;34m()\u001b[0m\n\u001b[1;32m      1\u001b[0m \u001b[0mouterModelSaya\u001b[0m \u001b[0;34m=\u001b[0m \u001b[0mc\u001b[0m\u001b[0;34m.\u001b[0m\u001b[0mConfig\u001b[0m\u001b[0;34m(\u001b[0m\u001b[0minnerModelSaya\u001b[0m\u001b[0;34m.\u001b[0m\u001b[0mpath\u001b[0m\u001b[0;34m(\u001b[0m\u001b[0;34m)\u001b[0m\u001b[0;34m,\u001b[0m \u001b[0mscaled\u001b[0m\u001b[0;34m=\u001b[0m\u001b[0;32mFalse\u001b[0m\u001b[0;34m)\u001b[0m\u001b[0;34m\u001b[0m\u001b[0;34m\u001b[0m\u001b[0m\n\u001b[1;32m      2\u001b[0m \u001b[0mouterModelSaya\u001b[0m\u001b[0;34m.\u001b[0m\u001b[0madd_lv_with_columns_named\u001b[0m\u001b[0;34m(\u001b[0m\u001b[0;34m\"Adoption Fee\"\u001b[0m\u001b[0;34m,\u001b[0m \u001b[0mMode\u001b[0m\u001b[0;34m.\u001b[0m\u001b[0mA\u001b[0m\u001b[0;34m,\u001b[0m \u001b[0mdf\u001b[0m\u001b[0;34m,\u001b[0m \u001b[0;34m\"AF\"\u001b[0m\u001b[0;34m)\u001b[0m \u001b[0;31m#mengambil data column dengan nama yang diawali \"comp_\" sebagai data indikator var COMP\u001b[0m\u001b[0;34m\u001b[0m\u001b[0;34m\u001b[0m\u001b[0m\n\u001b[0;32m----> 3\u001b[0;31m \u001b[0mouterModelSaya\u001b[0m\u001b[0;34m.\u001b[0m\u001b[0madd_lv_with_columns_named\u001b[0m\u001b[0;34m(\u001b[0m\u001b[0;34m\"Complexity\"\u001b[0m\u001b[0;34m,\u001b[0m \u001b[0mMode\u001b[0m\u001b[0;34m.\u001b[0m\u001b[0mA\u001b[0m\u001b[0;34m,\u001b[0m \u001b[0mdf\u001b[0m\u001b[0;34m,\u001b[0m \u001b[0;34m\"CM\"\u001b[0m\u001b[0;34m)\u001b[0m\u001b[0;34m\u001b[0m\u001b[0;34m\u001b[0m\u001b[0m\n\u001b[0m\u001b[1;32m      4\u001b[0m \u001b[0mouterModelSaya\u001b[0m\u001b[0;34m.\u001b[0m\u001b[0madd_lv_with_columns_named\u001b[0m\u001b[0;34m(\u001b[0m\u001b[0;34m\"Compatibility\"\u001b[0m\u001b[0;34m,\u001b[0m \u001b[0mMode\u001b[0m\u001b[0;34m.\u001b[0m\u001b[0mA\u001b[0m\u001b[0;34m,\u001b[0m \u001b[0mdf\u001b[0m\u001b[0;34m,\u001b[0m \u001b[0;34m\"CB\"\u001b[0m\u001b[0;34m)\u001b[0m\u001b[0;34m\u001b[0m\u001b[0;34m\u001b[0m\u001b[0m\n\u001b[1;32m      5\u001b[0m \u001b[0mouterModelSaya\u001b[0m\u001b[0;34m.\u001b[0m\u001b[0madd_lv_with_columns_named\u001b[0m\u001b[0;34m(\u001b[0m\u001b[0;34m\"Management Support\"\u001b[0m\u001b[0;34m,\u001b[0m \u001b[0mMode\u001b[0m\u001b[0;34m.\u001b[0m\u001b[0mA\u001b[0m\u001b[0;34m,\u001b[0m \u001b[0mdf\u001b[0m\u001b[0;34m,\u001b[0m \u001b[0;34m\"MS\"\u001b[0m\u001b[0;34m)\u001b[0m\u001b[0;34m\u001b[0m\u001b[0;34m\u001b[0m\u001b[0m\n",
            "\u001b[0;32m/usr/local/lib/python3.7/dist-packages/plspm/config.py\u001b[0m in \u001b[0;36madd_lv_with_columns_named\u001b[0;34m(self, lv_name, mode, data, col_name_starts_with, default_scale)\u001b[0m\n\u001b[1;32m    242\u001b[0m         \u001b[0mmvs\u001b[0m \u001b[0;34m=\u001b[0m \u001b[0mlist\u001b[0m\u001b[0;34m(\u001b[0m\u001b[0mmap\u001b[0m\u001b[0;34m(\u001b[0m\u001b[0;32mlambda\u001b[0m \u001b[0mmv\u001b[0m\u001b[0;34m:\u001b[0m \u001b[0mMV\u001b[0m\u001b[0;34m(\u001b[0m\u001b[0mmv\u001b[0m\u001b[0;34m,\u001b[0m \u001b[0mdefault_scale\u001b[0m\u001b[0;34m)\u001b[0m\u001b[0;34m,\u001b[0m \u001b[0mnames\u001b[0m\u001b[0;34m)\u001b[0m\u001b[0;34m)\u001b[0m\u001b[0;34m\u001b[0m\u001b[0;34m\u001b[0m\u001b[0m\n\u001b[1;32m    243\u001b[0m         \u001b[0;32mif\u001b[0m \u001b[0mlen\u001b[0m\u001b[0;34m(\u001b[0m\u001b[0mmvs\u001b[0m\u001b[0;34m)\u001b[0m \u001b[0;34m==\u001b[0m \u001b[0;36m0\u001b[0m\u001b[0;34m:\u001b[0m\u001b[0;34m\u001b[0m\u001b[0;34m\u001b[0m\u001b[0m\n\u001b[0;32m--> 244\u001b[0;31m             \u001b[0;32mraise\u001b[0m \u001b[0mValueError\u001b[0m\u001b[0;34m(\u001b[0m\u001b[0;34m\"No columns were found in the data starting with \"\u001b[0m \u001b[0;34m+\u001b[0m \u001b[0mcol_name_starts_with\u001b[0m\u001b[0;34m)\u001b[0m\u001b[0;34m\u001b[0m\u001b[0;34m\u001b[0m\u001b[0m\n\u001b[0m\u001b[1;32m    245\u001b[0m         \u001b[0mself\u001b[0m\u001b[0;34m.\u001b[0m\u001b[0madd_lv\u001b[0m\u001b[0;34m(\u001b[0m\u001b[0mlv_name\u001b[0m\u001b[0;34m,\u001b[0m \u001b[0mmode\u001b[0m\u001b[0;34m,\u001b[0m \u001b[0;34m*\u001b[0m\u001b[0mmvs\u001b[0m\u001b[0;34m)\u001b[0m\u001b[0;34m\u001b[0m\u001b[0;34m\u001b[0m\u001b[0m\n\u001b[1;32m    246\u001b[0m \u001b[0;34m\u001b[0m\u001b[0m\n",
            "\u001b[0;31mValueError\u001b[0m: No columns were found in the data starting with CM"
          ]
        }
      ]
    },
    {
      "cell_type": "markdown",
      "metadata": {
        "id": "Z972Xz1AVSa3"
      },
      "source": [
        "**Run PLSPM**"
      ],
      "id": "Z972Xz1AVSa3"
    },
    {
      "cell_type": "code",
      "metadata": {
        "id": "separated-musical"
      },
      "source": [
        "plspm_calc = Plspm(df, outerModelSaya, Scheme.CENTROID)"
      ],
      "id": "separated-musical",
      "execution_count": null,
      "outputs": []
    },
    {
      "cell_type": "markdown",
      "metadata": {
        "id": "hired-mixer"
      },
      "source": [
        "# Tahap #1 Measurement Model Assessment"
      ],
      "id": "hired-mixer"
    },
    {
      "cell_type": "markdown",
      "metadata": {
        "id": "mysterious-medication"
      },
      "source": [
        "# Unidimensionality\n",
        "apakah indikator mewakili dengan baik variabel yang diukurnya? cronbach alpha > 0.7"
      ],
      "id": "mysterious-medication"
    },
    {
      "cell_type": "code",
      "metadata": {
        "colab": {
          "base_uri": "https://localhost:8080/",
          "height": 173
        },
        "id": "suited-bubble",
        "outputId": "098701ce-d11e-4b66-db1e-93a190cd1aa8"
      },
      "source": [
        "asses_uni = plspm_calc.unidimensionality()\n",
        "asses_uni"
      ],
      "id": "suited-bubble",
      "execution_count": null,
      "outputs": [
        {
          "output_type": "execute_result",
          "data": {
            "text/html": [
              "<div>\n",
              "<style scoped>\n",
              "    .dataframe tbody tr th:only-of-type {\n",
              "        vertical-align: middle;\n",
              "    }\n",
              "\n",
              "    .dataframe tbody tr th {\n",
              "        vertical-align: top;\n",
              "    }\n",
              "\n",
              "    .dataframe thead th {\n",
              "        text-align: right;\n",
              "    }\n",
              "</style>\n",
              "<table border=\"1\" class=\"dataframe\">\n",
              "  <thead>\n",
              "    <tr style=\"text-align: right;\">\n",
              "      <th></th>\n",
              "      <th>mode</th>\n",
              "      <th>mvs</th>\n",
              "      <th>cronbach_alpha</th>\n",
              "      <th>dillon_goldstein_rho</th>\n",
              "      <th>eig_1st</th>\n",
              "      <th>eig_2nd</th>\n",
              "    </tr>\n",
              "  </thead>\n",
              "  <tbody>\n",
              "    <tr>\n",
              "      <th>LIKE</th>\n",
              "      <td>A</td>\n",
              "      <td>3.0</td>\n",
              "      <td>0.830987</td>\n",
              "      <td>0.898759</td>\n",
              "      <td>2.242330</td>\n",
              "      <td>0.407392</td>\n",
              "    </tr>\n",
              "    <tr>\n",
              "      <th>COMP</th>\n",
              "      <td>A</td>\n",
              "      <td>3.0</td>\n",
              "      <td>0.776028</td>\n",
              "      <td>0.870505</td>\n",
              "      <td>2.076027</td>\n",
              "      <td>0.572377</td>\n",
              "    </tr>\n",
              "    <tr>\n",
              "      <th>CUSA</th>\n",
              "      <td>A</td>\n",
              "      <td>1.0</td>\n",
              "      <td>NaN</td>\n",
              "      <td>1.000000</td>\n",
              "      <td>1.000000</td>\n",
              "      <td>NaN</td>\n",
              "    </tr>\n",
              "    <tr>\n",
              "      <th>CUSL</th>\n",
              "      <td>A</td>\n",
              "      <td>3.0</td>\n",
              "      <td>0.837582</td>\n",
              "      <td>0.902674</td>\n",
              "      <td>2.267683</td>\n",
              "      <td>0.481876</td>\n",
              "    </tr>\n",
              "  </tbody>\n",
              "</table>\n",
              "</div>"
            ],
            "text/plain": [
              "     mode  mvs  cronbach_alpha  dillon_goldstein_rho   eig_1st   eig_2nd\n",
              "LIKE    A  3.0        0.830987              0.898759  2.242330  0.407392\n",
              "COMP    A  3.0        0.776028              0.870505  2.076027  0.572377\n",
              "CUSA    A  1.0             NaN              1.000000  1.000000       NaN\n",
              "CUSL    A  3.0        0.837582              0.902674  2.267683  0.481876"
            ]
          },
          "metadata": {},
          "execution_count": 14
        }
      ]
    },
    {
      "cell_type": "markdown",
      "metadata": {
        "id": "IAySSdZmdQ2Y"
      },
      "source": [
        "dari hasil perintah pada tabel di atas tampak bahwa, nilai Cronbach alpha utk semua variabel lebih besar dari 0.7, hal ini menunjukkan bahwa indikator mewakili dengan baik variabel yang diukurnya."
      ],
      "id": "IAySSdZmdQ2Y"
    },
    {
      "cell_type": "markdown",
      "metadata": {
        "id": "southwest-administration"
      },
      "source": [
        "# Pengujian keeratan hubungan dan reliability indikator\n",
        "Apakah setiap indikator memiliki hubungan dan reliability yang bagus untuk mengukur variabelnya masing-masing? melalui outer loading > 0.7 dan communality test > 0.5"
      ],
      "id": "southwest-administration"
    },
    {
      "cell_type": "code",
      "metadata": {
        "colab": {
          "base_uri": "https://localhost:8080/",
          "height": 359
        },
        "id": "elementary-haven",
        "outputId": "8340fae5-21cf-41cf-91b7-39b6bf12b6e7"
      },
      "source": [
        "asses_reliability = plspm_calc.outer_model()\n",
        "asses_reliability"
      ],
      "id": "elementary-haven",
      "execution_count": null,
      "outputs": [
        {
          "output_type": "execute_result",
          "data": {
            "text/html": [
              "<div>\n",
              "<style scoped>\n",
              "    .dataframe tbody tr th:only-of-type {\n",
              "        vertical-align: middle;\n",
              "    }\n",
              "\n",
              "    .dataframe tbody tr th {\n",
              "        vertical-align: top;\n",
              "    }\n",
              "\n",
              "    .dataframe thead th {\n",
              "        text-align: right;\n",
              "    }\n",
              "</style>\n",
              "<table border=\"1\" class=\"dataframe\">\n",
              "  <thead>\n",
              "    <tr style=\"text-align: right;\">\n",
              "      <th></th>\n",
              "      <th>weight</th>\n",
              "      <th>loading</th>\n",
              "      <th>communality</th>\n",
              "      <th>redundancy</th>\n",
              "    </tr>\n",
              "  </thead>\n",
              "  <tbody>\n",
              "    <tr>\n",
              "      <th>comp_1</th>\n",
              "      <td>0.377924</td>\n",
              "      <td>0.860963</td>\n",
              "      <td>0.741258</td>\n",
              "      <td>0.000000</td>\n",
              "    </tr>\n",
              "    <tr>\n",
              "      <th>comp_2</th>\n",
              "      <td>0.229891</td>\n",
              "      <td>0.788110</td>\n",
              "      <td>0.621117</td>\n",
              "      <td>0.000000</td>\n",
              "    </tr>\n",
              "    <tr>\n",
              "      <th>comp_3</th>\n",
              "      <td>0.237378</td>\n",
              "      <td>0.822524</td>\n",
              "      <td>0.676545</td>\n",
              "      <td>0.000000</td>\n",
              "    </tr>\n",
              "    <tr>\n",
              "      <th>cusa</th>\n",
              "      <td>0.851370</td>\n",
              "      <td>1.000000</td>\n",
              "      <td>1.000000</td>\n",
              "      <td>0.284711</td>\n",
              "    </tr>\n",
              "    <tr>\n",
              "      <th>cusl_1</th>\n",
              "      <td>0.214604</td>\n",
              "      <td>0.822151</td>\n",
              "      <td>0.675933</td>\n",
              "      <td>0.376747</td>\n",
              "    </tr>\n",
              "    <tr>\n",
              "      <th>cusl_2</th>\n",
              "      <td>0.263184</td>\n",
              "      <td>0.930769</td>\n",
              "      <td>0.866332</td>\n",
              "      <td>0.482870</td>\n",
              "    </tr>\n",
              "    <tr>\n",
              "      <th>cusl_3</th>\n",
              "      <td>0.217895</td>\n",
              "      <td>0.850067</td>\n",
              "      <td>0.722614</td>\n",
              "      <td>0.402766</td>\n",
              "    </tr>\n",
              "    <tr>\n",
              "      <th>like_1</th>\n",
              "      <td>0.211192</td>\n",
              "      <td>0.844579</td>\n",
              "      <td>0.713314</td>\n",
              "      <td>0.000000</td>\n",
              "    </tr>\n",
              "    <tr>\n",
              "      <th>like_2</th>\n",
              "      <td>0.227209</td>\n",
              "      <td>0.883178</td>\n",
              "      <td>0.780003</td>\n",
              "      <td>0.000000</td>\n",
              "    </tr>\n",
              "    <tr>\n",
              "      <th>like_3</th>\n",
              "      <td>0.218723</td>\n",
              "      <td>0.863290</td>\n",
              "      <td>0.745269</td>\n",
              "      <td>0.000000</td>\n",
              "    </tr>\n",
              "  </tbody>\n",
              "</table>\n",
              "</div>"
            ],
            "text/plain": [
              "          weight   loading  communality  redundancy\n",
              "comp_1  0.377924  0.860963     0.741258    0.000000\n",
              "comp_2  0.229891  0.788110     0.621117    0.000000\n",
              "comp_3  0.237378  0.822524     0.676545    0.000000\n",
              "cusa    0.851370  1.000000     1.000000    0.284711\n",
              "cusl_1  0.214604  0.822151     0.675933    0.376747\n",
              "cusl_2  0.263184  0.930769     0.866332    0.482870\n",
              "cusl_3  0.217895  0.850067     0.722614    0.402766\n",
              "like_1  0.211192  0.844579     0.713314    0.000000\n",
              "like_2  0.227209  0.883178     0.780003    0.000000\n",
              "like_3  0.218723  0.863290     0.745269    0.000000"
            ]
          },
          "metadata": {},
          "execution_count": 15
        }
      ]
    },
    {
      "cell_type": "markdown",
      "metadata": {
        "id": "XA5CTRLhdJl-"
      },
      "source": [
        "tabel hasil uji di atas menunjukkan nilai loading dari setiap indikator lebih besar dari 0.7 dan nilai communality di atas 0.5, mengartikan bahwa setiap indikator memiliki hubungan dan reliability yang bagus untuk mengukur variabelnya masing-masing."
      ],
      "id": "XA5CTRLhdJl-"
    },
    {
      "cell_type": "markdown",
      "metadata": {
        "id": "minimal-childhood"
      },
      "source": [
        "# Pengujian cross-loadings\n",
        "indikator dari setiap variabel mengukur dengan baik variabelnya?"
      ],
      "id": "minimal-childhood"
    },
    {
      "cell_type": "code",
      "metadata": {
        "colab": {
          "base_uri": "https://localhost:8080/",
          "height": 359
        },
        "id": "adjustable-hearts",
        "outputId": "7cea81de-6474-443a-b619-5fe022c1d73c"
      },
      "source": [
        "asses_crossload = plspm_calc.crossloadings()\n",
        "asses_crossload"
      ],
      "id": "adjustable-hearts",
      "execution_count": null,
      "outputs": [
        {
          "output_type": "execute_result",
          "data": {
            "text/html": [
              "<div>\n",
              "<style scoped>\n",
              "    .dataframe tbody tr th:only-of-type {\n",
              "        vertical-align: middle;\n",
              "    }\n",
              "\n",
              "    .dataframe tbody tr th {\n",
              "        vertical-align: top;\n",
              "    }\n",
              "\n",
              "    .dataframe thead th {\n",
              "        text-align: right;\n",
              "    }\n",
              "</style>\n",
              "<table border=\"1\" class=\"dataframe\">\n",
              "  <thead>\n",
              "    <tr style=\"text-align: right;\">\n",
              "      <th></th>\n",
              "      <th>LIKE</th>\n",
              "      <th>COMP</th>\n",
              "      <th>CUSA</th>\n",
              "      <th>CUSL</th>\n",
              "    </tr>\n",
              "  </thead>\n",
              "  <tbody>\n",
              "    <tr>\n",
              "      <th>comp_1</th>\n",
              "      <td>0.598313</td>\n",
              "      <td>0.860963</td>\n",
              "      <td>0.462435</td>\n",
              "      <td>0.461840</td>\n",
              "    </tr>\n",
              "    <tr>\n",
              "      <th>comp_2</th>\n",
              "      <td>0.455136</td>\n",
              "      <td>0.788110</td>\n",
              "      <td>0.288672</td>\n",
              "      <td>0.297450</td>\n",
              "    </tr>\n",
              "    <tr>\n",
              "      <th>comp_3</th>\n",
              "      <td>0.497286</td>\n",
              "      <td>0.822524</td>\n",
              "      <td>0.274764</td>\n",
              "      <td>0.295866</td>\n",
              "    </tr>\n",
              "    <tr>\n",
              "      <th>like_1</th>\n",
              "      <td>0.844579</td>\n",
              "      <td>0.602453</td>\n",
              "      <td>0.506019</td>\n",
              "      <td>0.562040</td>\n",
              "    </tr>\n",
              "    <tr>\n",
              "      <th>like_2</th>\n",
              "      <td>0.883178</td>\n",
              "      <td>0.524207</td>\n",
              "      <td>0.429280</td>\n",
              "      <td>0.532913</td>\n",
              "    </tr>\n",
              "    <tr>\n",
              "      <th>like_3</th>\n",
              "      <td>0.863290</td>\n",
              "      <td>0.545071</td>\n",
              "      <td>0.414161</td>\n",
              "      <td>0.500733</td>\n",
              "    </tr>\n",
              "    <tr>\n",
              "      <th>cusa</th>\n",
              "      <td>0.515039</td>\n",
              "      <td>0.436762</td>\n",
              "      <td>1.000000</td>\n",
              "      <td>0.681516</td>\n",
              "    </tr>\n",
              "    <tr>\n",
              "      <th>cusl_1</th>\n",
              "      <td>0.550784</td>\n",
              "      <td>0.433847</td>\n",
              "      <td>0.531796</td>\n",
              "      <td>0.822151</td>\n",
              "    </tr>\n",
              "    <tr>\n",
              "      <th>cusl_2</th>\n",
              "      <td>0.578555</td>\n",
              "      <td>0.392608</td>\n",
              "      <td>0.644757</td>\n",
              "      <td>0.930769</td>\n",
              "    </tr>\n",
              "    <tr>\n",
              "      <th>cusl_3</th>\n",
              "      <td>0.466793</td>\n",
              "      <td>0.348707</td>\n",
              "      <td>0.591761</td>\n",
              "      <td>0.850067</td>\n",
              "    </tr>\n",
              "  </tbody>\n",
              "</table>\n",
              "</div>"
            ],
            "text/plain": [
              "            LIKE      COMP      CUSA      CUSL\n",
              "comp_1  0.598313  0.860963  0.462435  0.461840\n",
              "comp_2  0.455136  0.788110  0.288672  0.297450\n",
              "comp_3  0.497286  0.822524  0.274764  0.295866\n",
              "like_1  0.844579  0.602453  0.506019  0.562040\n",
              "like_2  0.883178  0.524207  0.429280  0.532913\n",
              "like_3  0.863290  0.545071  0.414161  0.500733\n",
              "cusa    0.515039  0.436762  1.000000  0.681516\n",
              "cusl_1  0.550784  0.433847  0.531796  0.822151\n",
              "cusl_2  0.578555  0.392608  0.644757  0.930769\n",
              "cusl_3  0.466793  0.348707  0.591761  0.850067"
            ]
          },
          "metadata": {},
          "execution_count": 16
        }
      ]
    },
    {
      "cell_type": "markdown",
      "metadata": {
        "id": "A9S7w5raJWHT"
      },
      "source": [
        "tabel uji di atas menunjukkan indikator dari setiap variabel mengukur dengan baik variabelnya, terlihat dari tabel loading masing-masing variabel lebih tinggi dibanding di variabel lainnya, terlihat dari angka-angka yang memiliki nilai paling tinggi dalam satu baris, misalnya nilai baris cusl_1, cusl_2 dan cusl_3 pada kolom CUSL memiliki nilai 0.822, 0.930, dan 0.850, paling besar dibanding kolom lainnya."
      ],
      "id": "A9S7w5raJWHT"
    },
    {
      "cell_type": "markdown",
      "metadata": {
        "id": "deadly-swing"
      },
      "source": [
        "# Tahap #2 Structural Model Assessment"
      ],
      "id": "deadly-swing"
    },
    {
      "cell_type": "markdown",
      "metadata": {
        "id": "legislative-republican"
      },
      "source": [
        "# Persamaan regresi tiap variabel endogen"
      ],
      "id": "legislative-republican"
    },
    {
      "cell_type": "code",
      "metadata": {
        "colab": {
          "base_uri": "https://localhost:8080/",
          "height": 235
        },
        "id": "pursuant-service",
        "outputId": "f6fff637-2970-4afa-aec3-b9ea1492e41e"
      },
      "source": [
        "struct_reg = plspm_calc.inner_model()\n",
        "struct_reg"
      ],
      "id": "pursuant-service",
      "execution_count": null,
      "outputs": [
        {
          "output_type": "execute_result",
          "data": {
            "text/html": [
              "<div>\n",
              "<style scoped>\n",
              "    .dataframe tbody tr th:only-of-type {\n",
              "        vertical-align: middle;\n",
              "    }\n",
              "\n",
              "    .dataframe tbody tr th {\n",
              "        vertical-align: top;\n",
              "    }\n",
              "\n",
              "    .dataframe thead th {\n",
              "        text-align: right;\n",
              "    }\n",
              "</style>\n",
              "<table border=\"1\" class=\"dataframe\">\n",
              "  <thead>\n",
              "    <tr style=\"text-align: right;\">\n",
              "      <th></th>\n",
              "      <th>from</th>\n",
              "      <th>to</th>\n",
              "      <th>estimate</th>\n",
              "      <th>std error</th>\n",
              "      <th>t</th>\n",
              "      <th>p&gt;|t|</th>\n",
              "    </tr>\n",
              "    <tr>\n",
              "      <th>index</th>\n",
              "      <th></th>\n",
              "      <th></th>\n",
              "      <th></th>\n",
              "      <th></th>\n",
              "      <th></th>\n",
              "      <th></th>\n",
              "    </tr>\n",
              "  </thead>\n",
              "  <tbody>\n",
              "    <tr>\n",
              "      <th>LIKE -&gt; CUSA</th>\n",
              "      <td>LIKE</td>\n",
              "      <td>CUSA</td>\n",
              "      <td>0.398897</td>\n",
              "      <td>0.059604</td>\n",
              "      <td>6.692451</td>\n",
              "      <td>9.029620e-11</td>\n",
              "    </tr>\n",
              "    <tr>\n",
              "      <th>COMP -&gt; CUSA</th>\n",
              "      <td>COMP</td>\n",
              "      <td>CUSA</td>\n",
              "      <td>0.181481</td>\n",
              "      <td>0.059604</td>\n",
              "      <td>3.044779</td>\n",
              "      <td>2.509677e-03</td>\n",
              "    </tr>\n",
              "    <tr>\n",
              "      <th>LIKE -&gt; CUSL</th>\n",
              "      <td>LIKE</td>\n",
              "      <td>CUSL</td>\n",
              "      <td>0.354339</td>\n",
              "      <td>0.049945</td>\n",
              "      <td>7.094630</td>\n",
              "      <td>7.581409e-12</td>\n",
              "    </tr>\n",
              "    <tr>\n",
              "      <th>COMP -&gt; CUSL</th>\n",
              "      <td>COMP</td>\n",
              "      <td>CUSL</td>\n",
              "      <td>0.002224</td>\n",
              "      <td>0.047590</td>\n",
              "      <td>0.046728</td>\n",
              "      <td>9.627574e-01</td>\n",
              "    </tr>\n",
              "    <tr>\n",
              "      <th>CUSA -&gt; CUSL</th>\n",
              "      <td>CUSA</td>\n",
              "      <td>CUSL</td>\n",
              "      <td>0.498047</td>\n",
              "      <td>0.042662</td>\n",
              "      <td>11.674317</td>\n",
              "      <td>1.041810e-26</td>\n",
              "    </tr>\n",
              "  </tbody>\n",
              "</table>\n",
              "</div>"
            ],
            "text/plain": [
              "              from    to  estimate  std error          t         p>|t|\n",
              "index                                                                 \n",
              "LIKE -> CUSA  LIKE  CUSA  0.398897   0.059604   6.692451  9.029620e-11\n",
              "COMP -> CUSA  COMP  CUSA  0.181481   0.059604   3.044779  2.509677e-03\n",
              "LIKE -> CUSL  LIKE  CUSL  0.354339   0.049945   7.094630  7.581409e-12\n",
              "COMP -> CUSL  COMP  CUSL  0.002224   0.047590   0.046728  9.627574e-01\n",
              "CUSA -> CUSL  CUSA  CUSL  0.498047   0.042662  11.674317  1.041810e-26"
            ]
          },
          "metadata": {},
          "execution_count": 17
        }
      ]
    },
    {
      "cell_type": "markdown",
      "metadata": {
        "id": "recent-jones"
      },
      "source": [
        "# Koefisien determinasi R<sup>2</sup> dan Redundancy\n",
        "Redundancy, nilai mean_redundancy yang semakin besar menunjukkan kemampuan variabel independent semakin mampu mengukur variasi variabel endogen nya."
      ],
      "id": "recent-jones"
    },
    {
      "cell_type": "code",
      "metadata": {
        "colab": {
          "base_uri": "https://localhost:8080/",
          "height": 173
        },
        "id": "seventh-stockholm",
        "outputId": "36d0b067-9b96-44fc-da99-0661d7c985af"
      },
      "source": [
        "struct_redun = plspm_calc.inner_summary()\n",
        "struct_redun"
      ],
      "id": "seventh-stockholm",
      "execution_count": null,
      "outputs": [
        {
          "output_type": "execute_result",
          "data": {
            "text/html": [
              "<div>\n",
              "<style scoped>\n",
              "    .dataframe tbody tr th:only-of-type {\n",
              "        vertical-align: middle;\n",
              "    }\n",
              "\n",
              "    .dataframe tbody tr th {\n",
              "        vertical-align: top;\n",
              "    }\n",
              "\n",
              "    .dataframe thead th {\n",
              "        text-align: right;\n",
              "    }\n",
              "</style>\n",
              "<table border=\"1\" class=\"dataframe\">\n",
              "  <thead>\n",
              "    <tr style=\"text-align: right;\">\n",
              "      <th></th>\n",
              "      <th>type</th>\n",
              "      <th>r_squared</th>\n",
              "      <th>r_squared_adj</th>\n",
              "      <th>block_communality</th>\n",
              "      <th>mean_redundancy</th>\n",
              "      <th>ave</th>\n",
              "    </tr>\n",
              "  </thead>\n",
              "  <tbody>\n",
              "    <tr>\n",
              "      <th>COMP</th>\n",
              "      <td>Exogenous</td>\n",
              "      <td>0.000000</td>\n",
              "      <td>0.000000</td>\n",
              "      <td>0.679640</td>\n",
              "      <td>0.000000</td>\n",
              "      <td>0.679640</td>\n",
              "    </tr>\n",
              "    <tr>\n",
              "      <th>CUSA</th>\n",
              "      <td>Endogenous</td>\n",
              "      <td>0.284711</td>\n",
              "      <td>0.280516</td>\n",
              "      <td>1.000000</td>\n",
              "      <td>0.284711</td>\n",
              "      <td>1.000000</td>\n",
              "    </tr>\n",
              "    <tr>\n",
              "      <th>CUSL</th>\n",
              "      <td>Endogenous</td>\n",
              "      <td>0.557373</td>\n",
              "      <td>0.553468</td>\n",
              "      <td>0.754959</td>\n",
              "      <td>0.420794</td>\n",
              "      <td>0.754959</td>\n",
              "    </tr>\n",
              "    <tr>\n",
              "      <th>LIKE</th>\n",
              "      <td>Exogenous</td>\n",
              "      <td>0.000000</td>\n",
              "      <td>0.000000</td>\n",
              "      <td>0.746196</td>\n",
              "      <td>0.000000</td>\n",
              "      <td>0.746196</td>\n",
              "    </tr>\n",
              "  </tbody>\n",
              "</table>\n",
              "</div>"
            ],
            "text/plain": [
              "            type  r_squared  ...  mean_redundancy       ave\n",
              "COMP   Exogenous   0.000000  ...         0.000000  0.679640\n",
              "CUSA  Endogenous   0.284711  ...         0.284711  1.000000\n",
              "CUSL  Endogenous   0.557373  ...         0.420794  0.754959\n",
              "LIKE   Exogenous   0.000000  ...         0.000000  0.746196\n",
              "\n",
              "[4 rows x 6 columns]"
            ]
          },
          "metadata": {},
          "execution_count": 18
        }
      ]
    },
    {
      "cell_type": "markdown",
      "metadata": {
        "id": "DjkxkChLt8X0"
      },
      "source": [
        "nilai r_squared_adj\tCUSL 0.553 menunjukkan bahwa 55.3% variabel CUSL dipengaruhi oleh COMP, LIKE dan CUSA, 44.6% dipengaruhi oleh variabel lainnya di luar model penelitian ini."
      ],
      "id": "DjkxkChLt8X0"
    },
    {
      "cell_type": "markdown",
      "metadata": {
        "id": "invisible-kennedy"
      },
      "source": [
        "# the Goodness-of-Fit (GoF)\n",
        "Semakin besar nilai GoF menunjukkan semakin bagusnya kinerja dan kualitas secara umum dari model pengukuran baik inner maupun outer model."
      ],
      "id": "invisible-kennedy"
    },
    {
      "cell_type": "code",
      "metadata": {
        "colab": {
          "base_uri": "https://localhost:8080/"
        },
        "id": "catholic-cradle",
        "outputId": "59345fde-ed3c-4011-e2e4-af9ad8d572be"
      },
      "source": [
        "struct_GoF = plspm_calc.goodness_of_fit()\n",
        "struct_GoF"
      ],
      "id": "catholic-cradle",
      "execution_count": null,
      "outputs": [
        {
          "output_type": "execute_result",
          "data": {
            "text/plain": [
              "0.5532350359581404"
            ]
          },
          "metadata": {},
          "execution_count": 19
        }
      ]
    },
    {
      "cell_type": "code",
      "metadata": {
        "colab": {
          "base_uri": "https://localhost:8080/"
        },
        "id": "quiet-session",
        "outputId": "9d56a18b-0158-4e67-e39f-e0451d12515c"
      },
      "source": [
        "print(plspm_calc.effects())"
      ],
      "id": "quiet-session",
      "execution_count": null,
      "outputs": [
        {
          "output_type": "stream",
          "name": "stdout",
          "text": [
            "              from    to    direct  indirect     total\n",
            "LIKE -> CUSA  LIKE  CUSA  0.398897  0.000000  0.398897\n",
            "LIKE -> CUSL  LIKE  CUSL  0.354339  0.198669  0.553008\n",
            "COMP -> CUSA  COMP  CUSA  0.181481  0.000000  0.181481\n",
            "COMP -> CUSL  COMP  CUSL  0.002224  0.090386  0.092610\n",
            "CUSA -> CUSL  CUSA  CUSL  0.498047  0.000000  0.498047\n"
          ]
        }
      ]
    },
    {
      "cell_type": "code",
      "metadata": {
        "colab": {
          "base_uri": "https://localhost:8080/"
        },
        "id": "tutorial-stephen",
        "outputId": "3a935687-ad4c-4f98-d408-ca9d9cea3a4c"
      },
      "source": [
        "print(plspm_calc.path_coefficients())"
      ],
      "id": "tutorial-stephen",
      "execution_count": null,
      "outputs": [
        {
          "output_type": "stream",
          "name": "stdout",
          "text": [
            "          LIKE      COMP      CUSA  CUSL\n",
            "LIKE  0.000000  0.000000  0.000000     0\n",
            "COMP  0.000000  0.000000  0.000000     0\n",
            "CUSA  0.398897  0.181481  0.000000     0\n",
            "CUSL  0.354339  0.002224  0.498047     0\n"
          ]
        }
      ]
    },
    {
      "cell_type": "markdown",
      "metadata": {
        "id": "blank-pendant"
      },
      "source": [
        "# Tahap #3 Bootstrapping"
      ],
      "id": "blank-pendant"
    },
    {
      "cell_type": "code",
      "metadata": {
        "id": "distributed-capture"
      },
      "source": [
        "plspm_calc = Plspm(df, outerModelSaya, bootstrap=True, bootstrap_iterations=1000)\n",
        "#jumlah iterasi sesuai kapasitas internet/komputer, ada sedikit perbedaan pd hasil uji"
      ],
      "id": "distributed-capture",
      "execution_count": null,
      "outputs": []
    },
    {
      "cell_type": "markdown",
      "metadata": {
        "id": "referenced-equipment"
      },
      "source": [
        "# Direct effects for paths\n",
        "calculated from bootstrap validation. Tahapan ini dilakukan untuk menguji hipotesis hubungan antar satu variabel ke variabel lainnya dalam model kita. Pada contoh ini ada 5 hipotesis yang akan diuji sesuai dengan gambar model kita di atas, yaitu:\n",
        "\n",
        "H1: LIKE berpengaruh signifikan pada CUSA<br>\n",
        "H2: LIKE berpengaruh signifikan pada CUSL<br>\n",
        "H3: COMP berpengaruh signifikan pada CUSA<br>\n",
        "H4: COMP berpengaruh signifikan pada CUSL<br>\n",
        "H5: CUSA berpengaruh signifikan pada CUSL"
      ],
      "id": "referenced-equipment"
    },
    {
      "cell_type": "code",
      "metadata": {
        "colab": {
          "base_uri": "https://localhost:8080/",
          "height": 204
        },
        "id": "SQflHrvQLVzD",
        "outputId": "0428f3ce-343f-4879-90cd-6f818f9d4435"
      },
      "source": [
        "plspm_calc.bootstrap().paths() #boot 1000 perlu waktu sekitar 3 menit"
      ],
      "id": "SQflHrvQLVzD",
      "execution_count": null,
      "outputs": [
        {
          "output_type": "execute_result",
          "data": {
            "text/html": [
              "<div>\n",
              "<style scoped>\n",
              "    .dataframe tbody tr th:only-of-type {\n",
              "        vertical-align: middle;\n",
              "    }\n",
              "\n",
              "    .dataframe tbody tr th {\n",
              "        vertical-align: top;\n",
              "    }\n",
              "\n",
              "    .dataframe thead th {\n",
              "        text-align: right;\n",
              "    }\n",
              "</style>\n",
              "<table border=\"1\" class=\"dataframe\">\n",
              "  <thead>\n",
              "    <tr style=\"text-align: right;\">\n",
              "      <th></th>\n",
              "      <th>original</th>\n",
              "      <th>mean</th>\n",
              "      <th>std.error</th>\n",
              "      <th>perc.025</th>\n",
              "      <th>perc.975</th>\n",
              "      <th>t stat.</th>\n",
              "    </tr>\n",
              "  </thead>\n",
              "  <tbody>\n",
              "    <tr>\n",
              "      <th>LIKE -&gt; CUSA</th>\n",
              "      <td>0.398897</td>\n",
              "      <td>0.401695</td>\n",
              "      <td>0.058456</td>\n",
              "      <td>0.298801</td>\n",
              "      <td>0.515776</td>\n",
              "      <td>6.823841</td>\n",
              "    </tr>\n",
              "    <tr>\n",
              "      <th>LIKE -&gt; CUSL</th>\n",
              "      <td>0.354339</td>\n",
              "      <td>0.355019</td>\n",
              "      <td>0.054949</td>\n",
              "      <td>0.240579</td>\n",
              "      <td>0.466177</td>\n",
              "      <td>6.448484</td>\n",
              "    </tr>\n",
              "    <tr>\n",
              "      <th>COMP -&gt; CUSA</th>\n",
              "      <td>0.181481</td>\n",
              "      <td>0.180921</td>\n",
              "      <td>0.065616</td>\n",
              "      <td>0.057925</td>\n",
              "      <td>0.304354</td>\n",
              "      <td>2.765808</td>\n",
              "    </tr>\n",
              "    <tr>\n",
              "      <th>COMP -&gt; CUSL</th>\n",
              "      <td>0.002224</td>\n",
              "      <td>0.004261</td>\n",
              "      <td>0.054014</td>\n",
              "      <td>-0.103319</td>\n",
              "      <td>0.115963</td>\n",
              "      <td>0.041171</td>\n",
              "    </tr>\n",
              "    <tr>\n",
              "      <th>CUSA -&gt; CUSL</th>\n",
              "      <td>0.498047</td>\n",
              "      <td>0.496524</td>\n",
              "      <td>0.044680</td>\n",
              "      <td>0.405262</td>\n",
              "      <td>0.582631</td>\n",
              "      <td>11.147077</td>\n",
              "    </tr>\n",
              "  </tbody>\n",
              "</table>\n",
              "</div>"
            ],
            "text/plain": [
              "              original      mean  std.error  perc.025  perc.975    t stat.\n",
              "LIKE -> CUSA  0.398897  0.401695   0.058456  0.298801  0.515776   6.823841\n",
              "LIKE -> CUSL  0.354339  0.355019   0.054949  0.240579  0.466177   6.448484\n",
              "COMP -> CUSA  0.181481  0.180921   0.065616  0.057925  0.304354   2.765808\n",
              "COMP -> CUSL  0.002224  0.004261   0.054014 -0.103319  0.115963   0.041171\n",
              "CUSA -> CUSL  0.498047  0.496524   0.044680  0.405262  0.582631  11.147077"
            ]
          },
          "metadata": {},
          "execution_count": 23
        }
      ]
    },
    {
      "cell_type": "markdown",
      "metadata": {
        "id": "U-pqtHcIcA-Q"
      },
      "source": [
        "tampak dari hasil di atas COMP tidak berpengaruh signifikan pada CUSL karena ada nilai nol di dalam range nilai perc.025 (-0.1033) dan perc.975 (0.1159) menurut Guderdan et al. (2008) dan Garson (2016), dimana lower percentile (perc.025) bernilai negatif dan upper percentiles (perc.975) bernilai positif, sedangkan pengujian pada 4 hipotesis lainnya disimpulkan LIKE berpengaruh signifikan pada CUSA, LIKE berpengaruh signifikan pada CUSL, COMP berpengaruh signifikan pada CUSA, dan CUSA berpengaruh signifikan pada CUSL."
      ],
      "id": "U-pqtHcIcA-Q"
    },
    {
      "cell_type": "markdown",
      "metadata": {
        "id": "driving-exemption"
      },
      "source": [
        "**R squared (R<sup>2</sup>) for latent variables calculated from bootstrap validation.**"
      ],
      "id": "driving-exemption"
    },
    {
      "cell_type": "code",
      "metadata": {
        "colab": {
          "base_uri": "https://localhost:8080/",
          "height": 111
        },
        "id": "coordinate-cornwall",
        "outputId": "08844ff8-220a-4a67-9044-009a9f479a60"
      },
      "source": [
        "plspm_calc.bootstrap().r_squared()"
      ],
      "id": "coordinate-cornwall",
      "execution_count": null,
      "outputs": [
        {
          "output_type": "execute_result",
          "data": {
            "text/html": [
              "<div>\n",
              "<style scoped>\n",
              "    .dataframe tbody tr th:only-of-type {\n",
              "        vertical-align: middle;\n",
              "    }\n",
              "\n",
              "    .dataframe tbody tr th {\n",
              "        vertical-align: top;\n",
              "    }\n",
              "\n",
              "    .dataframe thead th {\n",
              "        text-align: right;\n",
              "    }\n",
              "</style>\n",
              "<table border=\"1\" class=\"dataframe\">\n",
              "  <thead>\n",
              "    <tr style=\"text-align: right;\">\n",
              "      <th></th>\n",
              "      <th>original</th>\n",
              "      <th>mean</th>\n",
              "      <th>std.error</th>\n",
              "      <th>perc.025</th>\n",
              "      <th>perc.975</th>\n",
              "      <th>t stat.</th>\n",
              "    </tr>\n",
              "  </thead>\n",
              "  <tbody>\n",
              "    <tr>\n",
              "      <th>CUSA</th>\n",
              "      <td>0.284711</td>\n",
              "      <td>0.29123</td>\n",
              "      <td>0.040948</td>\n",
              "      <td>0.219016</td>\n",
              "      <td>0.373858</td>\n",
              "      <td>6.953049</td>\n",
              "    </tr>\n",
              "    <tr>\n",
              "      <th>CUSL</th>\n",
              "      <td>0.557373</td>\n",
              "      <td>0.56292</td>\n",
              "      <td>0.042100</td>\n",
              "      <td>0.482624</td>\n",
              "      <td>0.643547</td>\n",
              "      <td>13.239296</td>\n",
              "    </tr>\n",
              "  </tbody>\n",
              "</table>\n",
              "</div>"
            ],
            "text/plain": [
              "      original     mean  std.error  perc.025  perc.975    t stat.\n",
              "CUSA  0.284711  0.29123   0.040948  0.219016  0.373858   6.953049\n",
              "CUSL  0.557373  0.56292   0.042100  0.482624  0.643547  13.239296"
            ]
          },
          "metadata": {},
          "execution_count": 25
        }
      ]
    },
    {
      "cell_type": "markdown",
      "metadata": {
        "id": "chubby-punch"
      },
      "source": [
        "Loadings of manifest variables calculated from bootstrap validation."
      ],
      "id": "chubby-punch"
    },
    {
      "cell_type": "code",
      "metadata": {
        "colab": {
          "base_uri": "https://localhost:8080/",
          "height": 359
        },
        "id": "coordinate-compromise",
        "outputId": "7ca5d614-1d9e-41a7-bf04-2f4b6cbaed7c"
      },
      "source": [
        "plspm_calc.bootstrap().loading()"
      ],
      "id": "coordinate-compromise",
      "execution_count": null,
      "outputs": [
        {
          "output_type": "execute_result",
          "data": {
            "text/html": [
              "<div>\n",
              "<style scoped>\n",
              "    .dataframe tbody tr th:only-of-type {\n",
              "        vertical-align: middle;\n",
              "    }\n",
              "\n",
              "    .dataframe tbody tr th {\n",
              "        vertical-align: top;\n",
              "    }\n",
              "\n",
              "    .dataframe thead th {\n",
              "        text-align: right;\n",
              "    }\n",
              "</style>\n",
              "<table border=\"1\" class=\"dataframe\">\n",
              "  <thead>\n",
              "    <tr style=\"text-align: right;\">\n",
              "      <th></th>\n",
              "      <th>original</th>\n",
              "      <th>mean</th>\n",
              "      <th>std.error</th>\n",
              "      <th>perc.025</th>\n",
              "      <th>perc.975</th>\n",
              "      <th>t stat.</th>\n",
              "    </tr>\n",
              "  </thead>\n",
              "  <tbody>\n",
              "    <tr>\n",
              "      <th>comp_1</th>\n",
              "      <td>0.860963</td>\n",
              "      <td>0.860841</td>\n",
              "      <td>2.179315e-02</td>\n",
              "      <td>0.814146</td>\n",
              "      <td>0.900109</td>\n",
              "      <td>3.950615e+01</td>\n",
              "    </tr>\n",
              "    <tr>\n",
              "      <th>comp_2</th>\n",
              "      <td>0.788110</td>\n",
              "      <td>0.785458</td>\n",
              "      <td>3.110282e-02</td>\n",
              "      <td>0.719580</td>\n",
              "      <td>0.840690</td>\n",
              "      <td>2.533884e+01</td>\n",
              "    </tr>\n",
              "    <tr>\n",
              "      <th>comp_3</th>\n",
              "      <td>0.822524</td>\n",
              "      <td>0.817489</td>\n",
              "      <td>3.114508e-02</td>\n",
              "      <td>0.748212</td>\n",
              "      <td>0.868512</td>\n",
              "      <td>2.640943e+01</td>\n",
              "    </tr>\n",
              "    <tr>\n",
              "      <th>like_1</th>\n",
              "      <td>0.844579</td>\n",
              "      <td>0.843708</td>\n",
              "      <td>2.205672e-02</td>\n",
              "      <td>0.793492</td>\n",
              "      <td>0.885265</td>\n",
              "      <td>3.829125e+01</td>\n",
              "    </tr>\n",
              "    <tr>\n",
              "      <th>like_2</th>\n",
              "      <td>0.883178</td>\n",
              "      <td>0.881949</td>\n",
              "      <td>1.697259e-02</td>\n",
              "      <td>0.843944</td>\n",
              "      <td>0.913624</td>\n",
              "      <td>5.203555e+01</td>\n",
              "    </tr>\n",
              "    <tr>\n",
              "      <th>like_3</th>\n",
              "      <td>0.863290</td>\n",
              "      <td>0.861732</td>\n",
              "      <td>1.976990e-02</td>\n",
              "      <td>0.820681</td>\n",
              "      <td>0.895652</td>\n",
              "      <td>4.366688e+01</td>\n",
              "    </tr>\n",
              "    <tr>\n",
              "      <th>cusa</th>\n",
              "      <td>1.000000</td>\n",
              "      <td>1.000000</td>\n",
              "      <td>1.148902e-15</td>\n",
              "      <td>1.000000</td>\n",
              "      <td>1.000000</td>\n",
              "      <td>8.703965e+14</td>\n",
              "    </tr>\n",
              "    <tr>\n",
              "      <th>cusl_1</th>\n",
              "      <td>0.822151</td>\n",
              "      <td>0.820641</td>\n",
              "      <td>2.620139e-02</td>\n",
              "      <td>0.767296</td>\n",
              "      <td>0.868243</td>\n",
              "      <td>3.137815e+01</td>\n",
              "    </tr>\n",
              "    <tr>\n",
              "      <th>cusl_2</th>\n",
              "      <td>0.930769</td>\n",
              "      <td>0.930401</td>\n",
              "      <td>1.010905e-02</td>\n",
              "      <td>0.911470</td>\n",
              "      <td>0.947557</td>\n",
              "      <td>9.207291e+01</td>\n",
              "    </tr>\n",
              "    <tr>\n",
              "      <th>cusl_3</th>\n",
              "      <td>0.850067</td>\n",
              "      <td>0.848950</td>\n",
              "      <td>2.668970e-02</td>\n",
              "      <td>0.787876</td>\n",
              "      <td>0.893371</td>\n",
              "      <td>3.185000e+01</td>\n",
              "    </tr>\n",
              "  </tbody>\n",
              "</table>\n",
              "</div>"
            ],
            "text/plain": [
              "        original      mean     std.error  perc.025  perc.975       t stat.\n",
              "comp_1  0.860963  0.860841  2.179315e-02  0.814146  0.900109  3.950615e+01\n",
              "comp_2  0.788110  0.785458  3.110282e-02  0.719580  0.840690  2.533884e+01\n",
              "comp_3  0.822524  0.817489  3.114508e-02  0.748212  0.868512  2.640943e+01\n",
              "like_1  0.844579  0.843708  2.205672e-02  0.793492  0.885265  3.829125e+01\n",
              "like_2  0.883178  0.881949  1.697259e-02  0.843944  0.913624  5.203555e+01\n",
              "like_3  0.863290  0.861732  1.976990e-02  0.820681  0.895652  4.366688e+01\n",
              "cusa    1.000000  1.000000  1.148902e-15  1.000000  1.000000  8.703965e+14\n",
              "cusl_1  0.822151  0.820641  2.620139e-02  0.767296  0.868243  3.137815e+01\n",
              "cusl_2  0.930769  0.930401  1.010905e-02  0.911470  0.947557  9.207291e+01\n",
              "cusl_3  0.850067  0.848950  2.668970e-02  0.787876  0.893371  3.185000e+01"
            ]
          },
          "metadata": {},
          "execution_count": 26
        }
      ]
    },
    {
      "cell_type": "markdown",
      "metadata": {
        "id": "therapeutic-rotation"
      },
      "source": [
        "Outer weights calculated from bootstrap validation."
      ],
      "id": "therapeutic-rotation"
    },
    {
      "cell_type": "code",
      "metadata": {
        "colab": {
          "base_uri": "https://localhost:8080/",
          "height": 359
        },
        "id": "changing-merchant",
        "outputId": "26b8d9b9-76ca-4bd3-d953-3e55fa154d69"
      },
      "source": [
        "plspm_calc.bootstrap().weights()"
      ],
      "id": "changing-merchant",
      "execution_count": null,
      "outputs": [
        {
          "output_type": "execute_result",
          "data": {
            "text/html": [
              "<div>\n",
              "<style scoped>\n",
              "    .dataframe tbody tr th:only-of-type {\n",
              "        vertical-align: middle;\n",
              "    }\n",
              "\n",
              "    .dataframe tbody tr th {\n",
              "        vertical-align: top;\n",
              "    }\n",
              "\n",
              "    .dataframe thead th {\n",
              "        text-align: right;\n",
              "    }\n",
              "</style>\n",
              "<table border=\"1\" class=\"dataframe\">\n",
              "  <thead>\n",
              "    <tr style=\"text-align: right;\">\n",
              "      <th></th>\n",
              "      <th>original</th>\n",
              "      <th>mean</th>\n",
              "      <th>std.error</th>\n",
              "      <th>perc.025</th>\n",
              "      <th>perc.975</th>\n",
              "      <th>t stat.</th>\n",
              "    </tr>\n",
              "  </thead>\n",
              "  <tbody>\n",
              "    <tr>\n",
              "      <th>comp_1</th>\n",
              "      <td>0.377924</td>\n",
              "      <td>0.382145</td>\n",
              "      <td>0.033123</td>\n",
              "      <td>0.322218</td>\n",
              "      <td>0.457065</td>\n",
              "      <td>11.409762</td>\n",
              "    </tr>\n",
              "    <tr>\n",
              "      <th>comp_2</th>\n",
              "      <td>0.229891</td>\n",
              "      <td>0.230932</td>\n",
              "      <td>0.024861</td>\n",
              "      <td>0.184119</td>\n",
              "      <td>0.284359</td>\n",
              "      <td>9.247006</td>\n",
              "    </tr>\n",
              "    <tr>\n",
              "      <th>comp_3</th>\n",
              "      <td>0.237378</td>\n",
              "      <td>0.235340</td>\n",
              "      <td>0.022359</td>\n",
              "      <td>0.188865</td>\n",
              "      <td>0.275114</td>\n",
              "      <td>10.616457</td>\n",
              "    </tr>\n",
              "    <tr>\n",
              "      <th>like_1</th>\n",
              "      <td>0.211192</td>\n",
              "      <td>0.212727</td>\n",
              "      <td>0.014247</td>\n",
              "      <td>0.185234</td>\n",
              "      <td>0.240653</td>\n",
              "      <td>14.823515</td>\n",
              "    </tr>\n",
              "    <tr>\n",
              "      <th>like_2</th>\n",
              "      <td>0.227209</td>\n",
              "      <td>0.228563</td>\n",
              "      <td>0.013198</td>\n",
              "      <td>0.205074</td>\n",
              "      <td>0.254289</td>\n",
              "      <td>17.215027</td>\n",
              "    </tr>\n",
              "    <tr>\n",
              "      <th>like_3</th>\n",
              "      <td>0.218723</td>\n",
              "      <td>0.218863</td>\n",
              "      <td>0.013133</td>\n",
              "      <td>0.193630</td>\n",
              "      <td>0.243299</td>\n",
              "      <td>16.654932</td>\n",
              "    </tr>\n",
              "    <tr>\n",
              "      <th>cusa</th>\n",
              "      <td>0.851370</td>\n",
              "      <td>0.853526</td>\n",
              "      <td>0.037434</td>\n",
              "      <td>0.783870</td>\n",
              "      <td>0.933849</td>\n",
              "      <td>22.742990</td>\n",
              "    </tr>\n",
              "    <tr>\n",
              "      <th>cusl_1</th>\n",
              "      <td>0.214604</td>\n",
              "      <td>0.214422</td>\n",
              "      <td>0.014936</td>\n",
              "      <td>0.182787</td>\n",
              "      <td>0.242984</td>\n",
              "      <td>14.368063</td>\n",
              "    </tr>\n",
              "    <tr>\n",
              "      <th>cusl_2</th>\n",
              "      <td>0.263184</td>\n",
              "      <td>0.263556</td>\n",
              "      <td>0.014118</td>\n",
              "      <td>0.238010</td>\n",
              "      <td>0.293495</td>\n",
              "      <td>18.641915</td>\n",
              "    </tr>\n",
              "    <tr>\n",
              "      <th>cusl_3</th>\n",
              "      <td>0.217895</td>\n",
              "      <td>0.218535</td>\n",
              "      <td>0.014896</td>\n",
              "      <td>0.191417</td>\n",
              "      <td>0.249997</td>\n",
              "      <td>14.627725</td>\n",
              "    </tr>\n",
              "  </tbody>\n",
              "</table>\n",
              "</div>"
            ],
            "text/plain": [
              "        original      mean  std.error  perc.025  perc.975    t stat.\n",
              "comp_1  0.377924  0.382145   0.033123  0.322218  0.457065  11.409762\n",
              "comp_2  0.229891  0.230932   0.024861  0.184119  0.284359   9.247006\n",
              "comp_3  0.237378  0.235340   0.022359  0.188865  0.275114  10.616457\n",
              "like_1  0.211192  0.212727   0.014247  0.185234  0.240653  14.823515\n",
              "like_2  0.227209  0.228563   0.013198  0.205074  0.254289  17.215027\n",
              "like_3  0.218723  0.218863   0.013133  0.193630  0.243299  16.654932\n",
              "cusa    0.851370  0.853526   0.037434  0.783870  0.933849  22.742990\n",
              "cusl_1  0.214604  0.214422   0.014936  0.182787  0.242984  14.368063\n",
              "cusl_2  0.263184  0.263556   0.014118  0.238010  0.293495  18.641915\n",
              "cusl_3  0.217895  0.218535   0.014896  0.191417  0.249997  14.627725"
            ]
          },
          "metadata": {},
          "execution_count": 27
        }
      ]
    },
    {
      "cell_type": "markdown",
      "metadata": {
        "id": "gBziYQVNRfAa"
      },
      "source": [
        "## References:\n",
        "\n",
        "Garson, G. D. 2016. Partial Least Squares: Regression and Structural Equation Models. Asheboro, NC: Statistical Associates Publishers.\n",
        "\n",
        "Gudergan, Siegfried P. & Ringle, Christian M. & Wende, Sven & Will, Alexander, 2008. “Confirmatory tetrad analysis in PLS path modeling,” Journal of Business Research, Elsevier, vol. 61(12), pages 1238-1249, December.\n",
        "\n",
        "Hair, J. F., Hult, G. T. M., Ringle, C., & Sarstedt, M. (2017). A primer on partial least squares structural equation modeling (PLS-SEM). In SAGE Publications\n",
        "\n",
        "Sanchez, G. 2013. PLS Path Modeling with R, Trowchez Editions. Berkeley, 2013. https://www.gastonsanchez.com/PLS_Path_Modeling_with_R.pdf\n",
        "\n",
        "https://plspm.readthedocs.io/en/latest/source/plspm.bootstrap.html\n",
        "\n",
        "https://pypi.org/project/plspm/"
      ],
      "id": "gBziYQVNRfAa"
    },
    {
      "cell_type": "markdown",
      "metadata": {
        "id": "Y6PhXkVPR3EG"
      },
      "source": [
        "### Project:\n",
        "Persiapan untuk UAS"
      ],
      "id": "Y6PhXkVPR3EG"
    }
  ]
}